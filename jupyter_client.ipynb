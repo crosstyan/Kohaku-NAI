{
 "cells": [
  {
   "cell_type": "code",
   "execution_count": null,
   "metadata": {},
   "outputs": [],
   "source": [
    "from loguru import logger\n",
    "from request import GenerateRequest\n",
    "import asyncio\n",
    "from cli_client import AspectRatio, ar_map, send_req, GenError\n",
    "from utils import image_from_bytes\n",
    "from result import Result, Ok, Err\n",
    "import matplotlib.pyplot as plt\n",
    "from IPython.display import display, clear_output"
   ]
  },
  {
   "cell_type": "code",
   "execution_count": null,
   "metadata": {},
   "outputs": [],
   "source": [
    "host = \"127.0.0.1:7000\"\n",
    "sub_folder = \"\"\n",
    "prompt = \"fkey, 1girl black serafuku\"\n",
    "w = None\n",
    "h = None\n",
    "ar = AspectRatio.UltraTall\n",
    "batch_count = 4\n",
    "if ar is not None:\n",
    "    if w is not None and h is not None:\n",
    "        display(\"Both width and height are specified, ignoring aspect ratio\")\n",
    "    else:\n",
    "        w, h = ar_map[ar]\n",
    "        display(f\"Using aspect ratio {ar.name} ({w}x{h})\")\n",
    "if w is None or h is None:\n",
    "    display(\"Width or height is not specified, using default 1024x1024\")\n",
    "    w = 1024\n",
    "    h = 1024\n",
    "\n",
    "req = GenerateRequest(\n",
    "    prompt=prompt,\n",
    "    neg_prompt=\"bad quality\",\n",
    "    seed=-1,\n",
    "    scale=5.0,\n",
    "    width=w,\n",
    "    height=h,\n",
    "    steps=28,\n",
    "    sampler=\"k_euler\",\n",
    "    schedule=\"native\",\n",
    "    smea=False,\n",
    "    dyn=False,\n",
    "    dyn_threshold=False,\n",
    "    cfg_rescale=0,\n",
    ")"
   ]
  },
  {
   "cell_type": "code",
   "execution_count": null,
   "metadata": {},
   "outputs": [],
   "source": [
    "total_timeout = batch_count * 30\n",
    "\n",
    "async def run() -> Result[bytes, GenError]:\n",
    "    promise = asyncio.gather(*[\n",
    "        send_req(host, req, sub_folder, total_timeout)\n",
    "        for _ in range(batch_count)\n",
    "    ])\n",
    "    await promise\n",
    "    return promise.result()\n",
    "\n",
    "results = await run()"
   ]
  },
  {
   "cell_type": "code",
   "execution_count": null,
   "metadata": {},
   "outputs": [],
   "source": [
    "for result in results:\n",
    "    match result:\n",
    "        case Ok(data):\n",
    "            image = image_from_bytes(data)\n",
    "            plt.figure()\n",
    "            plt.imshow(image)\n",
    "        case Err(err):\n",
    "            display(err)"
   ]
  }
 ],
 "metadata": {
  "language_info": {
   "name": "python"
  }
 },
 "nbformat": 4,
 "nbformat_minor": 2
}
